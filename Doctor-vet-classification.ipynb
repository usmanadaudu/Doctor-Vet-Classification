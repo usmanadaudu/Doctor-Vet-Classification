{
 "cells": [
  {
   "cell_type": "code",
   "execution_count": 9,
   "id": "3967528e",
   "metadata": {},
   "outputs": [],
   "source": [
    "import re\n",
    "import string\n",
    "import pickle\n",
    "import numpy as np\n",
    "import pandas as pd\n",
    "from nltk.corpus import stopwords\n",
    "from doctor_vet_module import nlp_preprocessing\n",
    "from doctor_vet_module import get_prediction_per_comment\n",
    "from doctor_vet_module import get_overall_prediction"
   ]
  },
  {
   "cell_type": "code",
   "execution_count": 10,
   "id": "d2c90833",
   "metadata": {},
   "outputs": [],
   "source": [
    "with open(\"vectorizer.pkl\", \"rb\") as file:\n",
    "    vectorizer = pickle.load(file)"
   ]
  },
  {
   "cell_type": "code",
   "execution_count": 11,
   "id": "f96c37c8",
   "metadata": {},
   "outputs": [],
   "source": [
    "with open(\"encoder.pkl\", \"rb\") as file:\n",
    "    encoder = pickle.load(file)"
   ]
  },
  {
   "cell_type": "code",
   "execution_count": 12,
   "id": "7e904c9e",
   "metadata": {},
   "outputs": [],
   "source": [
    "with open(\"doctor_vet_model.pkl\", \"rb\") as file:\n",
    "    model = pickle.load(file)"
   ]
  },
  {
   "cell_type": "code",
   "execution_count": 13,
   "id": "f68a4a1f",
   "metadata": {},
   "outputs": [],
   "source": [
    "txt = \"I am a boy\""
   ]
  },
  {
   "cell_type": "code",
   "execution_count": 14,
   "id": "1d2d952b",
   "metadata": {},
   "outputs": [
    {
     "data": {
      "text/plain": [
       "'Other'"
      ]
     },
     "execution_count": 14,
     "metadata": {},
     "output_type": "execute_result"
    }
   ],
   "source": [
    "get_prediction_per_comment(txt, re, string, stopwords,\n",
    "                           vectorizer, encoder, model)"
   ]
  },
  {
   "cell_type": "code",
   "execution_count": null,
   "id": "ce5fe853",
   "metadata": {},
   "outputs": [],
   "source": []
  },
  {
   "cell_type": "code",
   "execution_count": 15,
   "id": "2a912b7b",
   "metadata": {},
   "outputs": [],
   "source": [
    "csv_filepath = \"train_set.csv\""
   ]
  },
  {
   "cell_type": "code",
   "execution_count": 17,
   "id": "6751054e",
   "metadata": {},
   "outputs": [],
   "source": [
    "predictions_df = get_overall_prediction(csv_filepath, np, pd, re, string,\n",
    "                                        stopwords, vectorizer, encoder,\n",
    "                                        model, \"comment\")"
   ]
  },
  {
   "cell_type": "code",
   "execution_count": 18,
   "id": "89b02078",
   "metadata": {},
   "outputs": [],
   "source": [
    "predictions_df.to_csv(\"Predictions.csv\", index=False)"
   ]
  },
  {
   "cell_type": "code",
   "execution_count": null,
   "id": "b86b1ae1",
   "metadata": {},
   "outputs": [],
   "source": []
  },
  {
   "cell_type": "code",
   "execution_count": null,
   "id": "76ac9eef",
   "metadata": {},
   "outputs": [],
   "source": []
  },
  {
   "cell_type": "code",
   "execution_count": null,
   "id": "845feaca",
   "metadata": {},
   "outputs": [],
   "source": []
  },
  {
   "cell_type": "code",
   "execution_count": null,
   "id": "fe3b3ab0",
   "metadata": {},
   "outputs": [],
   "source": []
  },
  {
   "cell_type": "code",
   "execution_count": null,
   "id": "4e157fc6",
   "metadata": {},
   "outputs": [],
   "source": []
  },
  {
   "cell_type": "code",
   "execution_count": null,
   "id": "3e3bb7b5",
   "metadata": {},
   "outputs": [],
   "source": []
  },
  {
   "cell_type": "code",
   "execution_count": null,
   "id": "47251b3f",
   "metadata": {},
   "outputs": [],
   "source": []
  }
 ],
 "metadata": {
  "kernelspec": {
   "display_name": "Python 3 (ipykernel)",
   "language": "python",
   "name": "python3"
  },
  "language_info": {
   "codemirror_mode": {
    "name": "ipython",
    "version": 3
   },
   "file_extension": ".py",
   "mimetype": "text/x-python",
   "name": "python",
   "nbconvert_exporter": "python",
   "pygments_lexer": "ipython3",
   "version": "3.11.5"
  }
 },
 "nbformat": 4,
 "nbformat_minor": 5
}
