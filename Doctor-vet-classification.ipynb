{
 "cells": [
  {
   "cell_type": "markdown",
   "id": "1fff55a8",
   "metadata": {},
   "source": [
    "# Doctor and Veterinary Classification using NLP - Making Prediction"
   ]
  },
  {
   "cell_type": "markdown",
   "id": "e6bb62ee",
   "metadata": {},
   "source": [
    "In this notebook file path to a csv file containing users comment would be given then predictions would be made and added as a new column named \"Predicted Label\""
   ]
  },
  {
   "cell_type": "markdown",
   "id": "f3be4b79",
   "metadata": {},
   "source": [
    "First, needed modules would be imported"
   ]
  },
  {
   "cell_type": "code",
   "execution_count": 9,
   "id": "3967528e",
   "metadata": {},
   "outputs": [],
   "source": [
    "import re\n",
    "import string\n",
    "import pickle\n",
    "import numpy as np\n",
    "import pandas as pd\n",
    "from nltk.corpus import stopwords\n",
    "from doctor_vet_module import nlp_preprocessing\n",
    "from doctor_vet_module import get_prediction_per_comment\n",
    "from doctor_vet_module import get_overall_prediction"
   ]
  },
  {
   "cell_type": "markdown",
   "id": "c9e06e0e",
   "metadata": {},
   "source": [
    "Load serialized vectorizer"
   ]
  },
  {
   "cell_type": "code",
   "execution_count": 10,
   "id": "975276c1",
   "metadata": {},
   "outputs": [],
   "source": [
    "with open(\"vectorizer.pkl\", \"rb\") as file:\n",
    "    vectorizer = pickle.load(file)"
   ]
  },
  {
   "cell_type": "markdown",
   "id": "54fcce49",
   "metadata": {},
   "source": [
    "Load serialized encoder"
   ]
  },
  {
   "cell_type": "code",
   "execution_count": 11,
   "id": "7fbd04f2",
   "metadata": {},
   "outputs": [],
   "source": [
    "with open(\"encoder.pkl\", \"rb\") as file:\n",
    "    encoder = pickle.load(file)"
   ]
  },
  {
   "cell_type": "markdown",
   "id": "d1e47c9d",
   "metadata": {},
   "source": [
    "Load serialized model"
   ]
  },
  {
   "cell_type": "code",
   "execution_count": 12,
   "id": "df8d1ff8",
   "metadata": {},
   "outputs": [],
   "source": [
    "with open(\"doctor_vet_model.pkl\", \"rb\") as file:\n",
    "    model = pickle.load(file)"
   ]
  },
  {
   "cell_type": "markdown",
   "id": "a2836625",
   "metadata": {},
   "source": [
    "## Specify the csv file for comment to be made on"
   ]
  },
  {
   "cell_type": "markdown",
   "id": "8f4b928f",
   "metadata": {},
   "source": [
    "Parameter explanation\n",
    "- **csv_filepath**: csv file path or pandas dataframe name\n",
    "- **comment_header**: name of the column in file containing user comments\n",
    "- **csv**: bool, True (default) for csv False for pandas dataframe"
   ]
  },
  {
   "cell_type": "code",
   "execution_count": 15,
   "id": "2a912b7b",
   "metadata": {},
   "outputs": [],
   "source": [
    "csv_filepath = \"train_set.csv\"\n",
    "comment_header = \"comment\"\n",
    "csv = True"
   ]
  },
  {
   "cell_type": "code",
   "execution_count": 17,
   "id": "6751054e",
   "metadata": {},
   "outputs": [],
   "source": [
    "predictions_df = get_overall_prediction(csv_filepath, np, pd, re, string,\n",
    "                                        stopwords, vectorizer, encoder,\n",
    "                                        model, comment_header, csv)"
   ]
  },
  {
   "cell_type": "markdown",
   "id": "188472ad",
   "metadata": {},
   "source": [
    "Have a look at the predictions"
   ]
  },
  {
   "cell_type": "code",
   "execution_count": null,
   "id": "3f6c66ff",
   "metadata": {},
   "outputs": [],
   "source": [
    "predictions_df"
   ]
  },
  {
   "cell_type": "markdown",
   "id": "87ebcce9",
   "metadata": {},
   "source": [
    "Save the file with predictions added to it as a csv file"
   ]
  },
  {
   "cell_type": "code",
   "execution_count": 18,
   "id": "89b02078",
   "metadata": {},
   "outputs": [],
   "source": [
    "predictions_df.to_csv(\"Predictions.csv\", index=False)"
   ]
  },
  {
   "cell_type": "markdown",
   "id": "5b9da24a",
   "metadata": {},
   "source": [
    "# Thank you"
   ]
  },
  {
   "cell_type": "code",
   "execution_count": null,
   "id": "00f24bf5",
   "metadata": {},
   "outputs": [],
   "source": []
  },
  {
   "cell_type": "code",
   "execution_count": null,
   "id": "cc773ae1",
   "metadata": {},
   "outputs": [],
   "source": []
  },
  {
   "cell_type": "code",
   "execution_count": null,
   "id": "7ea6b2e4",
   "metadata": {},
   "outputs": [],
   "source": []
  },
  {
   "cell_type": "code",
   "execution_count": null,
   "id": "42492030",
   "metadata": {},
   "outputs": [],
   "source": []
  },
  {
   "cell_type": "code",
   "execution_count": null,
   "id": "76e0a75c",
   "metadata": {},
   "outputs": [],
   "source": []
  },
  {
   "cell_type": "code",
   "execution_count": null,
   "id": "af6801ff",
   "metadata": {},
   "outputs": [],
   "source": []
  },
  {
   "cell_type": "code",
   "execution_count": null,
   "id": "a90be979",
   "metadata": {},
   "outputs": [],
   "source": []
  },
  {
   "cell_type": "code",
   "execution_count": null,
   "id": "287e06c6",
   "metadata": {},
   "outputs": [],
   "source": []
  },
  {
   "cell_type": "code",
   "execution_count": null,
   "id": "e2374594",
   "metadata": {},
   "outputs": [],
   "source": []
  },
  {
   "cell_type": "code",
   "execution_count": null,
   "id": "a9b44508",
   "metadata": {},
   "outputs": [],
   "source": []
  },
  {
   "cell_type": "code",
   "execution_count": null,
   "id": "49e0d1a2",
   "metadata": {},
   "outputs": [],
   "source": []
  }
 ],
 "metadata": {
  "kernelspec": {
   "display_name": "Python 3 (ipykernel)",
   "language": "python",
   "name": "python3"
  },
  "language_info": {
   "codemirror_mode": {
    "name": "ipython",
    "version": 3
   },
   "file_extension": ".py",
   "mimetype": "text/x-python",
   "name": "python",
   "nbconvert_exporter": "python",
   "pygments_lexer": "ipython3",
   "version": "3.11.5"
  }
 },
 "nbformat": 4,
 "nbformat_minor": 5
}
