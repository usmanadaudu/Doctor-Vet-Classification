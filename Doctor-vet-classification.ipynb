{
 "cells": [
  {
   "cell_type": "markdown",
   "id": "ee690441",
   "metadata": {},
   "source": [
    "# Doctor and Veterinary Classification using NLP - Making Prediction"
   ]
  },
  {
   "cell_type": "markdown",
   "id": "f2eb0b07",
   "metadata": {},
   "source": [
    "In this notebook file path to a csv file containing users comment would be given then predictions would be made and added as a new column named \"Predicted Label\""
   ]
  },
  {
   "cell_type": "markdown",
   "id": "a112517f",
   "metadata": {},
   "source": [
    "First, needed modules would be imported"
   ]
  },
  {
   "cell_type": "code",
   "execution_count": 9,
   "id": "3967528e",
   "metadata": {},
   "outputs": [],
   "source": [
    "import re\n",
    "import string\n",
    "import pickle\n",
    "import numpy as np\n",
    "import pandas as pd\n",
    "from nltk.corpus import stopwords\n",
    "from doctor_vet_module import nlp_preprocessing\n",
    "from doctor_vet_module import get_prediction_per_comment\n",
    "from doctor_vet_module import get_overall_prediction"
   ]
  },
  {
   "cell_type": "markdown",
   "id": "b1d3d0e0",
   "metadata": {},
   "source": [
    "Load serialized vectorizer"
   ]
  },
  {
   "cell_type": "code",
   "execution_count": 10,
   "id": "9aee3ea1",
   "metadata": {},
   "outputs": [],
   "source": [
    "with open(\"vectorizer.pkl\", \"rb\") as file:\n",
    "    vectorizer = pickle.load(file)"
   ]
  },
  {
   "cell_type": "markdown",
   "id": "ba782027",
   "metadata": {},
   "source": [
    "Load serialized encoder"
   ]
  },
  {
   "cell_type": "code",
   "execution_count": 11,
   "id": "ff629d98",
   "metadata": {},
   "outputs": [],
   "source": [
    "with open(\"encoder.pkl\", \"rb\") as file:\n",
    "    encoder = pickle.load(file)"
   ]
  },
  {
   "cell_type": "markdown",
   "id": "fd558361",
   "metadata": {},
   "source": [
    "Load serialized model"
   ]
  },
  {
   "cell_type": "code",
   "execution_count": 12,
   "id": "51b12341",
   "metadata": {},
   "outputs": [],
   "source": [
    "with open(\"doctor_vet_model.pkl\", \"rb\") as file:\n",
    "    model = pickle.load(file)"
   ]
  },
  {
   "cell_type": "markdown",
   "id": "5776d766",
   "metadata": {},
   "source": [
    "## Specify the csv file for comment to be made on"
   ]
  },
  {
   "cell_type": "markdown",
   "id": "d80f4f55",
   "metadata": {},
   "source": [
    "Parameter explanation\n",
    "- **csv_filepath**: csv file path or pandas dataframe name\n",
    "- **comment_header**: name of the column in file containing user comments\n",
    "- **csv**: bool, True (default) for csv False for pandas dataframe"
   ]
  },
  {
   "cell_type": "code",
   "execution_count": 15,
   "id": "2a912b7b",
   "metadata": {},
   "outputs": [],
   "source": [
    "csv_filepath = \"train_set.csv\"\n",
    "comment_header = \"comment\"\n",
    "csv = True"
   ]
  },
  {
   "cell_type": "code",
   "execution_count": 17,
   "id": "6751054e",
   "metadata": {},
   "outputs": [],
   "source": [
    "predictions_df = get_overall_prediction(csv_filepath, np, pd, re, string,\n",
    "                                        stopwords, vectorizer, encoder,\n",
    "                                        model, comment_header, csv)"
   ]
  },
  {
   "cell_type": "markdown",
   "id": "1e655fa7",
   "metadata": {},
   "source": [
    "Have a look at the predictions"
   ]
  },
  {
   "cell_type": "code",
   "execution_count": null,
   "id": "a3fc2cc1",
   "metadata": {},
   "outputs": [],
   "source": [
    "predictions_df"
   ]
  },
  {
   "cell_type": "markdown",
   "id": "3835c086",
   "metadata": {},
   "source": [
    "Save the file with predictions added to it as a csv file"
   ]
  },
  {
   "cell_type": "code",
   "execution_count": 18,
   "id": "89b02078",
   "metadata": {},
   "outputs": [],
   "source": [
    "predictions_df.to_csv(\"Predictions.csv\", index=False)"
   ]
  },
  {
   "cell_type": "markdown",
   "id": "5fdfc89a",
   "metadata": {},
   "source": [
    "# Thank you"
   ]
  }
 ],
 "metadata": {
  "kernelspec": {
   "display_name": "Python 3 (ipykernel)",
   "language": "python",
   "name": "python3"
  },
  "language_info": {
   "codemirror_mode": {
    "name": "ipython",
    "version": 3
   },
   "file_extension": ".py",
   "mimetype": "text/x-python",
   "name": "python",
   "nbconvert_exporter": "python",
   "pygments_lexer": "ipython3",
   "version": "3.11.5"
  }
 },
 "nbformat": 4,
 "nbformat_minor": 5
}
