{
 "cells": [
  {
   "cell_type": "markdown",
   "id": "1fff55a8",
   "metadata": {},
   "source": [
    "# Doctor and Veterinary Classification using NLP - Making Prediction"
   ]
  },
  {
   "cell_type": "markdown",
   "id": "e6bb62ee",
   "metadata": {},
   "source": [
    "In this notebook file path to a csv file containing users comment would be given then predictions would be made and added as a new column named \"Predicted Label\""
   ]
  },
  {
   "cell_type": "markdown",
   "id": "f3be4b79",
   "metadata": {},
   "source": [
    "First, needed modules would be imported"
   ]
  },
  {
   "cell_type": "code",
   "execution_count": 1,
   "id": "3967528e",
   "metadata": {},
   "outputs": [],
   "source": [
    "import re\n",
    "import string\n",
    "import pickle\n",
    "import numpy as np\n",
    "import pandas as pd\n",
    "from nltk.corpus import stopwords\n",
    "from doctor_vet_module import nlp_preprocessing\n",
    "from doctor_vet_module import get_prediction_per_comment\n",
    "from doctor_vet_module import get_overall_prediction"
   ]
  },
  {
   "cell_type": "markdown",
   "id": "c9e06e0e",
   "metadata": {},
   "source": [
    "Load serialized vectorizer"
   ]
  },
  {
   "cell_type": "code",
   "execution_count": 2,
   "id": "975276c1",
   "metadata": {},
   "outputs": [],
   "source": [
    "with open(\"vectorizer.pkl\", \"rb\") as file:\n",
    "    vectorizer = pickle.load(file)"
   ]
  },
  {
   "cell_type": "markdown",
   "id": "54fcce49",
   "metadata": {},
   "source": [
    "Load serialized encoder"
   ]
  },
  {
   "cell_type": "code",
   "execution_count": 3,
   "id": "7fbd04f2",
   "metadata": {},
   "outputs": [],
   "source": [
    "with open(\"encoder.pkl\", \"rb\") as file:\n",
    "    encoder = pickle.load(file)"
   ]
  },
  {
   "cell_type": "markdown",
   "id": "d1e47c9d",
   "metadata": {},
   "source": [
    "Load serialized model"
   ]
  },
  {
   "cell_type": "code",
   "execution_count": 4,
   "id": "df8d1ff8",
   "metadata": {},
   "outputs": [],
   "source": [
    "with open(\"doctor_vet_model.pkl\", \"rb\") as file:\n",
    "    model = pickle.load(file)"
   ]
  },
  {
   "cell_type": "code",
   "execution_count": 15,
   "id": "5d34e933",
   "metadata": {},
   "outputs": [],
   "source": [
    "import streamlit as st"
   ]
  },
  {
   "cell_type": "code",
   "execution_count": 18,
   "id": "6cf4155c",
   "metadata": {},
   "outputs": [
    {
     "name": "stdout",
     "output_type": "stream",
     "text": [
      "Help on method info in module streamlit.delta_generator:\n",
      "\n",
      "info(body: 'SupportsStr', *, icon: 'str | None' = None) -> 'DeltaGenerator' method of streamlit.delta_generator.DeltaGenerator instance\n",
      "    Display an informational message.\n",
      "    \n",
      "    Parameters\n",
      "    ----------\n",
      "    body : str\n",
      "        The info text to display.\n",
      "    icon : str, None\n",
      "        An optional emoji or icon to display next to the alert. If ``icon``\n",
      "        is ``None`` (default), no icon is displayed. If ``icon`` is a\n",
      "        string, the following options are valid:\n",
      "    \n",
      "        * A single-character emoji. For example, you can set ``icon=\"🚨\"``\n",
      "          or ``icon=\"🔥\"``. Emoji short codes are not supported.\n",
      "    \n",
      "        * An icon from the Material Symbols library (outlined style) in the\n",
      "          format ``\":material/icon_name:\"`` where \"icon_name\" is the name\n",
      "          of the icon in snake case.\n",
      "    \n",
      "          For example, ``icon=\":material/thumb_up:\"`` will display the\n",
      "          Thumb Up icon. Find additional icons in the `Material Symbols               <https://fonts.google.com/icons?icon.set=Material+Symbols&icon.style=Outlined>`_\n",
      "          font library.\n",
      "    \n",
      "    Example\n",
      "    -------\n",
      "    >>> import streamlit as st\n",
      "    >>>\n",
      "    >>> st.info('This is a purely informational message', icon=\"ℹ️\")\n",
      "\n"
     ]
    }
   ],
   "source": [
    "help(st.)"
   ]
  },
  {
   "cell_type": "markdown",
   "id": "a2836625",
   "metadata": {},
   "source": [
    "## Specify the csv file for comment to be made on"
   ]
  },
  {
   "cell_type": "markdown",
   "id": "8f4b928f",
   "metadata": {},
   "source": [
    "Parameter explanation\n",
    "- **csv_filepath**: csv file path or pandas dataframe name\n",
    "- **comment_header**: name of the column in file containing user comments\n",
    "- **file_type**: Type of file\n",
    "           \"csv\" (default) for csv files,\n",
    "            \"dataframe\" for pandas dataframe,\n",
    "            and \"text\" for string"
   ]
  },
  {
   "cell_type": "code",
   "execution_count": 5,
   "id": "2a912b7b",
   "metadata": {},
   "outputs": [],
   "source": [
    "csv_filepath = \"train_set.csv\"\n",
    "comment_header = \"comment\"\n",
    "file_type = \"csv\""
   ]
  },
  {
   "cell_type": "code",
   "execution_count": 6,
   "id": "6751054e",
   "metadata": {},
   "outputs": [],
   "source": [
    "predictions_df = get_overall_prediction(csv_filepath, np, pd, re, string,\n",
    "                                        stopwords, vectorizer, encoder,\n",
    "                                        model, comment_header, file_type)"
   ]
  },
  {
   "cell_type": "markdown",
   "id": "188472ad",
   "metadata": {},
   "source": [
    "Have a look at the predictions"
   ]
  },
  {
   "cell_type": "code",
   "execution_count": 7,
   "id": "3f6c66ff",
   "metadata": {},
   "outputs": [
    {
     "data": {
      "text/html": [
       "<div>\n",
       "<style scoped>\n",
       "    .dataframe tbody tr th:only-of-type {\n",
       "        vertical-align: middle;\n",
       "    }\n",
       "\n",
       "    .dataframe tbody tr th {\n",
       "        vertical-align: top;\n",
       "    }\n",
       "\n",
       "    .dataframe thead th {\n",
       "        text-align: right;\n",
       "    }\n",
       "</style>\n",
       "<table border=\"1\" class=\"dataframe\">\n",
       "  <thead>\n",
       "    <tr style=\"text-align: right;\">\n",
       "      <th></th>\n",
       "      <th>username</th>\n",
       "      <th>comment</th>\n",
       "      <th>subreddit</th>\n",
       "      <th>former_index</th>\n",
       "      <th>Label</th>\n",
       "      <th>Predicted Label</th>\n",
       "    </tr>\n",
       "  </thead>\n",
       "  <tbody>\n",
       "    <tr>\n",
       "      <th>0</th>\n",
       "      <td>test_doctor2</td>\n",
       "      <td>elderly man recovering hip replacement surgery</td>\n",
       "      <td>medicine</td>\n",
       "      <td>1438</td>\n",
       "      <td>Medical Doctor</td>\n",
       "      <td>Veterinarian</td>\n",
       "    </tr>\n",
       "    <tr>\n",
       "      <th>1</th>\n",
       "      <td>test_doctor3</td>\n",
       "      <td>teenage boy treated sports injury</td>\n",
       "      <td>medicine</td>\n",
       "      <td>1439</td>\n",
       "      <td>Medical Doctor</td>\n",
       "      <td>Medical Doctor</td>\n",
       "    </tr>\n",
       "    <tr>\n",
       "      <th>2</th>\n",
       "      <td>test_doctor4</td>\n",
       "      <td>woman expecting baby visited prenatal check up</td>\n",
       "      <td>medicine</td>\n",
       "      <td>1440</td>\n",
       "      <td>Medical Doctor</td>\n",
       "      <td>Medical Doctor</td>\n",
       "    </tr>\n",
       "    <tr>\n",
       "      <th>3</th>\n",
       "      <td>test_doctor5</td>\n",
       "      <td>performed appendectomy patient</td>\n",
       "      <td>medicine</td>\n",
       "      <td>1441</td>\n",
       "      <td>Medical Doctor</td>\n",
       "      <td>Medical Doctor</td>\n",
       "    </tr>\n",
       "    <tr>\n",
       "      <th>4</th>\n",
       "      <td>test_doctor6</td>\n",
       "      <td>patients blood pressure stabilizing medication</td>\n",
       "      <td>medicine</td>\n",
       "      <td>1442</td>\n",
       "      <td>Medical Doctor</td>\n",
       "      <td>Veterinarian</td>\n",
       "    </tr>\n",
       "    <tr>\n",
       "      <th>...</th>\n",
       "      <td>...</td>\n",
       "      <td>...</td>\n",
       "      <td>...</td>\n",
       "      <td>...</td>\n",
       "      <td>...</td>\n",
       "      <td>...</td>\n",
       "    </tr>\n",
       "    <tr>\n",
       "      <th>154</th>\n",
       "      <td>daabilge</td>\n",
       "      <td>tbh kind matter picking battles ideally we d p...</td>\n",
       "      <td>Veterinary</td>\n",
       "      <td>2692</td>\n",
       "      <td>Veterinarian</td>\n",
       "      <td>Medical Doctor</td>\n",
       "    </tr>\n",
       "    <tr>\n",
       "      <th>155</th>\n",
       "      <td>_rosanna_</td>\n",
       "      <td>literally leaving clinic right similar problem...</td>\n",
       "      <td>Veterinary</td>\n",
       "      <td>1345</td>\n",
       "      <td>Medical Doctor</td>\n",
       "      <td>Medical Doctor</td>\n",
       "    </tr>\n",
       "    <tr>\n",
       "      <th>156</th>\n",
       "      <td>extinctplanet</td>\n",
       "      <td>applied internships jobs tab aza com also loca...</td>\n",
       "      <td>Veterinary</td>\n",
       "      <td>1072</td>\n",
       "      <td>Other</td>\n",
       "      <td>Other</td>\n",
       "    </tr>\n",
       "    <tr>\n",
       "      <th>157</th>\n",
       "      <td>socialdistraction</td>\n",
       "      <td>prices vet care going la its also harder get a...</td>\n",
       "      <td>Veterinary</td>\n",
       "      <td>1726</td>\n",
       "      <td>Other</td>\n",
       "      <td>Other</td>\n",
       "    </tr>\n",
       "    <tr>\n",
       "      <th>158</th>\n",
       "      <td>Due_Dream9234</td>\n",
       "      <td>technicians assholes you everyone new point ca...</td>\n",
       "      <td>Veterinary</td>\n",
       "      <td>1738</td>\n",
       "      <td>Medical Doctor</td>\n",
       "      <td>Veterinarian</td>\n",
       "    </tr>\n",
       "  </tbody>\n",
       "</table>\n",
       "<p>159 rows × 6 columns</p>\n",
       "</div>"
      ],
      "text/plain": [
       "              username                                            comment  \\\n",
       "0         test_doctor2     elderly man recovering hip replacement surgery   \n",
       "1         test_doctor3                  teenage boy treated sports injury   \n",
       "2         test_doctor4     woman expecting baby visited prenatal check up   \n",
       "3         test_doctor5                     performed appendectomy patient   \n",
       "4         test_doctor6     patients blood pressure stabilizing medication   \n",
       "..                 ...                                                ...   \n",
       "154           daabilge  tbh kind matter picking battles ideally we d p...   \n",
       "155          _rosanna_  literally leaving clinic right similar problem...   \n",
       "156      extinctplanet  applied internships jobs tab aza com also loca...   \n",
       "157  socialdistraction  prices vet care going la its also harder get a...   \n",
       "158      Due_Dream9234  technicians assholes you everyone new point ca...   \n",
       "\n",
       "      subreddit  former_index           Label Predicted Label  \n",
       "0      medicine          1438  Medical Doctor    Veterinarian  \n",
       "1      medicine          1439  Medical Doctor  Medical Doctor  \n",
       "2      medicine          1440  Medical Doctor  Medical Doctor  \n",
       "3      medicine          1441  Medical Doctor  Medical Doctor  \n",
       "4      medicine          1442  Medical Doctor    Veterinarian  \n",
       "..          ...           ...             ...             ...  \n",
       "154  Veterinary          2692    Veterinarian  Medical Doctor  \n",
       "155  Veterinary          1345  Medical Doctor  Medical Doctor  \n",
       "156  Veterinary          1072           Other           Other  \n",
       "157  Veterinary          1726           Other           Other  \n",
       "158  Veterinary          1738  Medical Doctor    Veterinarian  \n",
       "\n",
       "[159 rows x 6 columns]"
      ]
     },
     "execution_count": 7,
     "metadata": {},
     "output_type": "execute_result"
    }
   ],
   "source": [
    "predictions_df"
   ]
  },
  {
   "cell_type": "markdown",
   "id": "87ebcce9",
   "metadata": {},
   "source": [
    "Save the file with predictions added to it as a csv file"
   ]
  },
  {
   "cell_type": "code",
   "execution_count": 8,
   "id": "89b02078",
   "metadata": {},
   "outputs": [],
   "source": [
    "# predictions_df.to_csv(\"Predictions.csv\", index=False)"
   ]
  },
  {
   "cell_type": "code",
   "execution_count": null,
   "id": "b22d5ae5",
   "metadata": {},
   "outputs": [],
   "source": [
    "txt = \"\"\"\n",
    "Got it. But why can I only select $1.99, $3.99 or $7.99 worth of MYST? Seems pretty strange imo. Why can’t we just send however much we like? Is there a way to just see our address and send whatever amount we choose? ---> /r/MysteriumNetwork/comments/zk6hag/how_to_send_myst_to_application/izy2cgw/ | You’re a legend bro. Wonder why tf they don’t make this accessible, seems like a no brainer! ---> /r/MysteriumNetwork/comments/zk6hag/how_to_send_myst_to_application/j0uh08x/ | Same problem here. WTF ---> /r/MysteriumNetwork/comments/zfm5ll/anyone_else_stuck_permanently_downloading_an/izxz9s6/ | UPDATE:\n",
    "\n",
    "Wow so i fixed it guys. I deleted the DNS in my Wi-Fi settings and after a new one was generated I hit apply. Then all of the sudden I was back online! My question is what in the world caused that to happen? I love Mysterium but feel very sketched out, yet idk if it was even their fault. What do you guys think? I’m skeptical of reinstalling it again. I had a some MYST in my account prior to uninstalling, I doubt I would get it back if I reinstalled right? Not the end of the world, I’m just happy to be online again although I missed a lot of meetings this morning. Really curious how this happened after enabling the kill switch, quitting and uninstalling. Lmk what you think. ---> /r/MysteriumNetwork/comments/xx6kgk/need_help_ever_since_i_enabled_kill_switch_i_cant/iraks5t/ | Feels like I’ve won the lottery. Now back to my minimum wage misery. ---> /r/MysteriumNetwork/comments/xx6kgk/need_help_ever_since_i_enabled_kill_switch_i_cant/irbgtx8/ | I did, no reply and it’s been a week ---> /r/MysteriumNetwork/comments/txk7ao/cant_connect_to_any_nodes_for_more_than_30/i3vsj5p/ | Wow that's so sketchy.. wtf? Now I'm really not touching this project. ---> /r/MysteriumNetwork/comments/twpgt1/psa_moderators_are_censoring_posts_on/i3kenty/ | Okay good to know, I jumped on a Russian node and started thinking twice lol. You think it’s safer going with residential nodes or no difference? 🥂 ---> /r/MysteriumNetwork/comments/tsbqed/security/i2wtq00/ | YES. Any more of a liability compared to something like ExpressVPN or any other popular centralized vpn? Given the nature of both i feel like it would be more prevalent with dVPNs but really don’t know ---> /r/MysteriumNetwork/comments/tsbqed/security/i2wu0ju/ | Wow! Yeah seems the returns with Mysterium aren't great, I would have to enable whitelisting as well. Helium is a cool project. I wanted to buy a miner and antenna but all of the miners were sold out with a 6 month waiting period. I talked to this guy who does free installs but takes like 80% of the rewards which seemed pointless. Monero mining I don't know anything about. I don't have a mining rig either, just an iMac but I have no issue buying the equipment if the returns are steady ---> /r/MysteriumNetwork/comments/tijvgl/best_ways_to_earn_supplemental_income_aside_from/i1ervof/ |  Yeah I think I am. Do you have any tips? I would be considered a noob but have good internet speeds and hardware. What kind of returns do you get? What are your thoughts on enabling whitelisting? Is it worthy the drop in MYST? ---> /r/MysteriumNetwork/comments/thwllq/mysterium_vs_orchid/i1cbhz0/ | Lol fair enough. Hows the returns with presearch? ---> /r/MysteriumNetwork/comments/thwllq/mysterium_vs_orchid/i1cvidl/ | Yeah it's bad. What's up with that? I hope they're at least working on something. They have no presence at all it's creepy. ---> /r/MysteriumNetwork/comments/thwllq/mysterium_vs_orchid/i2nxv92/ | What type of returns do you see? Do you have whitelisting enabled? ---> /r/MysteriumNetwork/comments/thwllq/mysterium_vs_orchid/i1e5qgv/\n",
    "\"\"\""
   ]
  },
  {
   "cell_type": "code",
   "execution_count": 10,
   "id": "7d3af2b6",
   "metadata": {},
   "outputs": [],
   "source": [
    "filepath = \"txt\"\n",
    "file_type = \"text\""
   ]
  },
  {
   "cell_type": "code",
   "execution_count": 13,
   "id": "187feb23",
   "metadata": {},
   "outputs": [],
   "source": [
    "predictions = get_overall_prediction(filepath, np, pd, re, string,\n",
    "                                        stopwords, vectorizer, encoder,\n",
    "                                        model, comment_header, file_type)"
   ]
  },
  {
   "cell_type": "markdown",
   "id": "2be6ab8a",
   "metadata": {},
   "source": [
    "Have a look at the predictions"
   ]
  },
  {
   "cell_type": "code",
   "execution_count": 14,
   "id": "14b81a51",
   "metadata": {},
   "outputs": [
    {
     "data": {
      "text/plain": [
       "'Other'"
      ]
     },
     "execution_count": 14,
     "metadata": {},
     "output_type": "execute_result"
    }
   ],
   "source": [
    "predictions_df"
   ]
  },
  {
   "cell_type": "markdown",
   "id": "5b9da24a",
   "metadata": {},
   "source": [
    "# Thank you"
   ]
  }
 ],
 "metadata": {
  "kernelspec": {
   "display_name": "Python 3 (ipykernel)",
   "language": "python",
   "name": "python3"
  },
  "language_info": {
   "codemirror_mode": {
    "name": "ipython",
    "version": 3
   },
   "file_extension": ".py",
   "mimetype": "text/x-python",
   "name": "python",
   "nbconvert_exporter": "python",
   "pygments_lexer": "ipython3",
   "version": "3.11.5"
  }
 },
 "nbformat": 4,
 "nbformat_minor": 5
}
